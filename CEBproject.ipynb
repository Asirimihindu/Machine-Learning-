{
 "cells": [
  {
   "cell_type": "code",
   "execution_count": 2,
   "metadata": {},
   "outputs": [],
   "source": [
    "import json\n",
    "import pandas as pd\n",
    "from pandas import DataFrame"
   ]
  },
  {
   "cell_type": "code",
   "execution_count": 71,
   "metadata": {},
   "outputs": [
    {
     "data": {
      "text/plain": [
       "'{\"Ja-Ela\":{\"a_sum\":2.0,\"A_mean\":0.4612,\"b_mean\":4.28283,\"c_d_prodsum\":3.4260336},\"Negombo\":{\"a_sum\":2.0,\"A_mean\":0.4612,\"b_mean\":4.28283,\"c_d_prodsum\":1.7130168}}'"
      ]
     },
     "execution_count": 71,
     "metadata": {},
     "output_type": "execute_result"
    }
   ],
   "source": [
    "json_string = '[{ \"name\":\"John\", \"age\":30, \"car\":\"Nissan\" },{ \"name\":\"Asiri\", \"age\":35, \"car\":\"toyota\" }]'\n",
    "\n",
    "json_string2 ='[{ \"Customerid\":1, \"Area\":\"Ja-Ela\" ,\"A\": 0.4612, \"B\": 4.28283, \"C\": -1.509, \"D\": -1.1352 },{\"Customerid\":2, \"Area\":\"Ja-Ela\" ,\"A\": 0.4612, \"B\": 4.28283, \"C\": -1.509, \"D\": -1.1352 },{\"Customerid\":2, \"Area\":\"Negombo\" ,\"A\": 0.4612, \"B\": 4.28283, \"C\": -1.509, \"D\": -1.1352 }]'\n",
    "\n",
    "a_json = json.loads(json_string2)\n",
    "a_json\n",
    "df= pd.DataFrame.from_dict(a_json, orient='columns')\n",
    "#df.groupby(['Area']).mean().to_json(orient = 'index')\n",
    "\n",
    "df2=df.groupby('Area').apply(lambda x: pd.Series({\n",
    "      'a_sum'       : x['Customerid'].max(),\n",
    "      'A_mean'       : x['A'].mean(),\n",
    "      'b_mean'      : x['B'].mean(),\n",
    "      'c_d_prodsum' : (x['C'] * x['D']).sum()\n",
    "  })\n",
    ")\n",
    "df2.to_json(orient='index', default_handler=callable)\n",
    "#dataframe = DataFrame(a_json)"
   ]
  },
  {
   "cell_type": "code",
   "execution_count": 40,
   "metadata": {},
   "outputs": [
    {
     "data": {
      "text/html": [
       "<div>\n",
       "<style scoped>\n",
       "    .dataframe tbody tr th:only-of-type {\n",
       "        vertical-align: middle;\n",
       "    }\n",
       "\n",
       "    .dataframe tbody tr th {\n",
       "        vertical-align: top;\n",
       "    }\n",
       "\n",
       "    .dataframe thead th {\n",
       "        text-align: right;\n",
       "    }\n",
       "</style>\n",
       "<table border=\"1\" class=\"dataframe\">\n",
       "  <thead>\n",
       "    <tr style=\"text-align: right;\">\n",
       "      <th></th>\n",
       "      <th>Customerid</th>\n",
       "      <th>A</th>\n",
       "      <th>B</th>\n",
       "      <th>C</th>\n",
       "      <th>D</th>\n",
       "    </tr>\n",
       "    <tr>\n",
       "      <th>Area</th>\n",
       "      <th></th>\n",
       "      <th></th>\n",
       "      <th></th>\n",
       "      <th></th>\n",
       "      <th></th>\n",
       "    </tr>\n",
       "  </thead>\n",
       "  <tbody>\n",
       "    <tr>\n",
       "      <td>Ja-Ela</td>\n",
       "      <td>1.5</td>\n",
       "      <td>0.4612</td>\n",
       "      <td>4.28283</td>\n",
       "      <td>-1.509</td>\n",
       "      <td>-1.1352</td>\n",
       "    </tr>\n",
       "  </tbody>\n",
       "</table>\n",
       "</div>"
      ],
      "text/plain": [
       "        Customerid       A        B      C       D\n",
       "Area                                              \n",
       "Ja-Ela         1.5  0.4612  4.28283 -1.509 -1.1352"
      ]
     },
     "execution_count": 40,
     "metadata": {},
     "output_type": "execute_result"
    }
   ],
   "source": [
    "df.groupby(['Area']).mean()"
   ]
  },
  {
   "cell_type": "code",
   "execution_count": null,
   "metadata": {},
   "outputs": [],
   "source": []
  }
 ],
 "metadata": {
  "kernelspec": {
   "display_name": "Python 3",
   "language": "python",
   "name": "python3"
  },
  "language_info": {
   "codemirror_mode": {
    "name": "ipython",
    "version": 3
   },
   "file_extension": ".py",
   "mimetype": "text/x-python",
   "name": "python",
   "nbconvert_exporter": "python",
   "pygments_lexer": "ipython3",
   "version": "3.7.4"
  }
 },
 "nbformat": 4,
 "nbformat_minor": 2
}
